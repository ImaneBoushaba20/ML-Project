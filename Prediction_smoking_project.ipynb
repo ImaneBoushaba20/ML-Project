{
 "cells": [
  {
   "cell_type": "markdown",
   "id": "53e6f3fe-51e8-4cc4-8419-c086eb5258c4",
   "metadata": {},
   "source": [
    "# les biblios"
   ]
  },
  {
   "cell_type": "code",
   "execution_count": 5,
   "id": "2c3f11fc",
   "metadata": {},
   "outputs": [],
   "source": [
    "\n",
    "import pandas as pd\n",
    "import numpy as np\n",
    "import seaborn as sns\n",
    "import matplotlib.pyplot as plt\n",
    "from sklearn import preprocessing\n",
    "from sklearn.model_selection import train_test_split, GridSearchCV, cross_val_score\n",
    "from sklearn.linear_model import LogisticRegression\n",
    "from sklearn.preprocessing import RobustScaler, Normalizer, MinMaxScaler, StandardScaler\n",
    "from sklearn.metrics import accuracy_score, confusion_matrix, classification_report,precision_score, f1_score, recall_score\n",
    "from sklearn.ensemble import RandomForestClassifier\n",
    "from sklearn.ensemble import GradientBoostingClassifier\n"
   ]
  },
  {
   "cell_type": "markdown",
   "id": "2bb43005-4ba1-42ad-aed4-765d52d73103",
   "metadata": {},
   "source": [
    "# Étape 1 : Chargement du dataset"
   ]
  },
  {
   "cell_type": "code",
   "execution_count": 6,
   "id": "8ca6259e-ae7d-46da-baaa-48e881d512fc",
   "metadata": {},
   "outputs": [
    {
     "data": {
      "text/html": [
       "<div>\n",
       "<style scoped>\n",
       "    .dataframe tbody tr th:only-of-type {\n",
       "        vertical-align: middle;\n",
       "    }\n",
       "\n",
       "    .dataframe tbody tr th {\n",
       "        vertical-align: top;\n",
       "    }\n",
       "\n",
       "    .dataframe thead th {\n",
       "        text-align: right;\n",
       "    }\n",
       "</style>\n",
       "<table border=\"1\" class=\"dataframe\">\n",
       "  <thead>\n",
       "    <tr style=\"text-align: right;\">\n",
       "      <th></th>\n",
       "      <th>ID</th>\n",
       "      <th>gender</th>\n",
       "      <th>age</th>\n",
       "      <th>height(cm)</th>\n",
       "      <th>weight(kg)</th>\n",
       "      <th>waist(cm)</th>\n",
       "      <th>eyesight(left)</th>\n",
       "      <th>eyesight(right)</th>\n",
       "      <th>hearing(left)</th>\n",
       "      <th>hearing(right)</th>\n",
       "      <th>...</th>\n",
       "      <th>hemoglobin</th>\n",
       "      <th>Urine protein</th>\n",
       "      <th>serum creatinine</th>\n",
       "      <th>AST</th>\n",
       "      <th>ALT</th>\n",
       "      <th>Gtp</th>\n",
       "      <th>oral</th>\n",
       "      <th>dental caries</th>\n",
       "      <th>tartar</th>\n",
       "      <th>smoking</th>\n",
       "    </tr>\n",
       "  </thead>\n",
       "  <tbody>\n",
       "    <tr>\n",
       "      <th>0</th>\n",
       "      <td>0</td>\n",
       "      <td>F</td>\n",
       "      <td>40</td>\n",
       "      <td>155</td>\n",
       "      <td>60</td>\n",
       "      <td>81.3</td>\n",
       "      <td>1.2</td>\n",
       "      <td>1.0</td>\n",
       "      <td>1.0</td>\n",
       "      <td>1.0</td>\n",
       "      <td>...</td>\n",
       "      <td>12.9</td>\n",
       "      <td>1.0</td>\n",
       "      <td>0.7</td>\n",
       "      <td>18.0</td>\n",
       "      <td>19.0</td>\n",
       "      <td>27.0</td>\n",
       "      <td>Y</td>\n",
       "      <td>0</td>\n",
       "      <td>Y</td>\n",
       "      <td>0</td>\n",
       "    </tr>\n",
       "    <tr>\n",
       "      <th>1</th>\n",
       "      <td>1</td>\n",
       "      <td>F</td>\n",
       "      <td>40</td>\n",
       "      <td>160</td>\n",
       "      <td>60</td>\n",
       "      <td>81.0</td>\n",
       "      <td>0.8</td>\n",
       "      <td>0.6</td>\n",
       "      <td>1.0</td>\n",
       "      <td>1.0</td>\n",
       "      <td>...</td>\n",
       "      <td>12.7</td>\n",
       "      <td>1.0</td>\n",
       "      <td>0.6</td>\n",
       "      <td>22.0</td>\n",
       "      <td>19.0</td>\n",
       "      <td>18.0</td>\n",
       "      <td>Y</td>\n",
       "      <td>0</td>\n",
       "      <td>Y</td>\n",
       "      <td>0</td>\n",
       "    </tr>\n",
       "    <tr>\n",
       "      <th>2</th>\n",
       "      <td>2</td>\n",
       "      <td>M</td>\n",
       "      <td>55</td>\n",
       "      <td>170</td>\n",
       "      <td>60</td>\n",
       "      <td>80.0</td>\n",
       "      <td>0.8</td>\n",
       "      <td>0.8</td>\n",
       "      <td>1.0</td>\n",
       "      <td>1.0</td>\n",
       "      <td>...</td>\n",
       "      <td>15.8</td>\n",
       "      <td>1.0</td>\n",
       "      <td>1.0</td>\n",
       "      <td>21.0</td>\n",
       "      <td>16.0</td>\n",
       "      <td>22.0</td>\n",
       "      <td>Y</td>\n",
       "      <td>0</td>\n",
       "      <td>N</td>\n",
       "      <td>1</td>\n",
       "    </tr>\n",
       "    <tr>\n",
       "      <th>3</th>\n",
       "      <td>3</td>\n",
       "      <td>M</td>\n",
       "      <td>40</td>\n",
       "      <td>165</td>\n",
       "      <td>70</td>\n",
       "      <td>88.0</td>\n",
       "      <td>1.5</td>\n",
       "      <td>1.5</td>\n",
       "      <td>1.0</td>\n",
       "      <td>1.0</td>\n",
       "      <td>...</td>\n",
       "      <td>14.7</td>\n",
       "      <td>1.0</td>\n",
       "      <td>1.0</td>\n",
       "      <td>19.0</td>\n",
       "      <td>26.0</td>\n",
       "      <td>18.0</td>\n",
       "      <td>Y</td>\n",
       "      <td>0</td>\n",
       "      <td>Y</td>\n",
       "      <td>0</td>\n",
       "    </tr>\n",
       "    <tr>\n",
       "      <th>4</th>\n",
       "      <td>4</td>\n",
       "      <td>F</td>\n",
       "      <td>40</td>\n",
       "      <td>155</td>\n",
       "      <td>60</td>\n",
       "      <td>86.0</td>\n",
       "      <td>1.0</td>\n",
       "      <td>1.0</td>\n",
       "      <td>1.0</td>\n",
       "      <td>1.0</td>\n",
       "      <td>...</td>\n",
       "      <td>12.5</td>\n",
       "      <td>1.0</td>\n",
       "      <td>0.6</td>\n",
       "      <td>16.0</td>\n",
       "      <td>14.0</td>\n",
       "      <td>22.0</td>\n",
       "      <td>Y</td>\n",
       "      <td>0</td>\n",
       "      <td>N</td>\n",
       "      <td>0</td>\n",
       "    </tr>\n",
       "  </tbody>\n",
       "</table>\n",
       "<p>5 rows × 27 columns</p>\n",
       "</div>"
      ],
      "text/plain": [
       "   ID gender  age  height(cm)  weight(kg)  waist(cm)  eyesight(left)  \\\n",
       "0   0      F   40         155          60       81.3             1.2   \n",
       "1   1      F   40         160          60       81.0             0.8   \n",
       "2   2      M   55         170          60       80.0             0.8   \n",
       "3   3      M   40         165          70       88.0             1.5   \n",
       "4   4      F   40         155          60       86.0             1.0   \n",
       "\n",
       "   eyesight(right)  hearing(left)  hearing(right)  ...  hemoglobin  \\\n",
       "0              1.0            1.0             1.0  ...        12.9   \n",
       "1              0.6            1.0             1.0  ...        12.7   \n",
       "2              0.8            1.0             1.0  ...        15.8   \n",
       "3              1.5            1.0             1.0  ...        14.7   \n",
       "4              1.0            1.0             1.0  ...        12.5   \n",
       "\n",
       "   Urine protein  serum creatinine   AST   ALT   Gtp  oral  dental caries  \\\n",
       "0            1.0               0.7  18.0  19.0  27.0     Y              0   \n",
       "1            1.0               0.6  22.0  19.0  18.0     Y              0   \n",
       "2            1.0               1.0  21.0  16.0  22.0     Y              0   \n",
       "3            1.0               1.0  19.0  26.0  18.0     Y              0   \n",
       "4            1.0               0.6  16.0  14.0  22.0     Y              0   \n",
       "\n",
       "   tartar  smoking  \n",
       "0       Y        0  \n",
       "1       Y        0  \n",
       "2       N        1  \n",
       "3       Y        0  \n",
       "4       N        0  \n",
       "\n",
       "[5 rows x 27 columns]"
      ]
     },
     "execution_count": 6,
     "metadata": {},
     "output_type": "execute_result"
    }
   ],
   "source": [
    "\n",
    "# Étape 1 : Chargement du dataset\n",
    "data = pd.read_csv(\"smoking.csv\")\n",
    "data.head()"
   ]
  },
  {
   "cell_type": "code",
   "execution_count": 7,
   "id": "9038d9e7",
   "metadata": {},
   "outputs": [
    {
     "data": {
      "text/plain": [
       "ID                     0\n",
       "gender                 0\n",
       "age                    0\n",
       "height(cm)             0\n",
       "weight(kg)             0\n",
       "waist(cm)              0\n",
       "eyesight(left)         0\n",
       "eyesight(right)        0\n",
       "hearing(left)          0\n",
       "hearing(right)         0\n",
       "systolic               0\n",
       "relaxation             0\n",
       "fasting blood sugar    0\n",
       "Cholesterol            0\n",
       "triglyceride           0\n",
       "HDL                    0\n",
       "LDL                    0\n",
       "hemoglobin             0\n",
       "Urine protein          0\n",
       "serum creatinine       0\n",
       "AST                    0\n",
       "ALT                    0\n",
       "Gtp                    0\n",
       "oral                   0\n",
       "dental caries          0\n",
       "tartar                 0\n",
       "smoking                0\n",
       "dtype: int64"
      ]
     },
     "execution_count": 7,
     "metadata": {},
     "output_type": "execute_result"
    }
   ],
   "source": [
    "#verifier si notre dataset contients des donnes manquantes\n",
    "data.isnull().sum()"
   ]
  },
  {
   "cell_type": "markdown",
   "id": "c89f6f76-6667-4c7c-9fdd-5fbf6f82fdf2",
   "metadata": {},
   "source": [
    "pas de zero dans le dataset "
   ]
  },
  {
   "cell_type": "code",
   "execution_count": 8,
   "id": "d10dfc5b",
   "metadata": {},
   "outputs": [
    {
     "data": {
      "text/plain": [
       "Index(['ID', 'gender', 'age', 'height(cm)', 'weight(kg)', 'waist(cm)',\n",
       "       'eyesight(left)', 'eyesight(right)', 'hearing(left)', 'hearing(right)',\n",
       "       'systolic', 'relaxation', 'fasting blood sugar', 'Cholesterol',\n",
       "       'triglyceride', 'HDL', 'LDL', 'hemoglobin', 'Urine protein',\n",
       "       'serum creatinine', 'AST', 'ALT', 'Gtp', 'oral', 'dental caries',\n",
       "       'tartar', 'smoking'],\n",
       "      dtype='object')"
      ]
     },
     "execution_count": 8,
     "metadata": {},
     "output_type": "execute_result"
    }
   ],
   "source": [
    "#appercevoir les colonnes de notre dataset\n",
    "data.columns"
   ]
  },
  {
   "cell_type": "code",
   "execution_count": 9,
   "id": "8cc63970",
   "metadata": {},
   "outputs": [],
   "source": [
    "#creation des groupes pour chaque tranche d'age\n",
    "def create_age_groups(age):\n",
    "    if 18 <= age <= 44:\n",
    "        return 'jeune'\n",
    "    elif 45 <= age <= 64:\n",
    "        return 'adulte moyen'\n",
    "    else:\n",
    "        return 'vieux'\n",
    "\n",
    "#utilisation\n",
    "data[\"age group\"]= data['age'].apply(create_age_groups)"
   ]
  },
  {
   "cell_type": "code",
   "execution_count": 10,
   "id": "1b687287",
   "metadata": {},
   "outputs": [],
   "source": [
    "# fonction de regroupement des goupes ages et leur smoking status\n",
    "def group_data(data, column, smoker):\n",
    "    grouped_data = data[data['smoking'] == smoker].groupby('age group')[column].mean()\n",
    "    return grouped_data\n",
    "#aplication\n",
    "grouped_h_smokers = group_data(data,\"hemoglobin\",1)\n",
    "grouped_h_non_smokers = group_data(data,\"hemoglobin\",0)"
   ]
  },
  {
   "cell_type": "markdown",
   "id": "d6929432-b378-4eb7-9787-e83e5816a708",
   "metadata": {},
   "source": [
    "# Le Plot:\n",
    "representation des pourcentages du smoking/non smoking par tranche d'age en fonction de l'indice\n",
    "Hemoglobin"
   ]
  },
  {
   "cell_type": "code",
   "execution_count": 11,
   "id": "ce5ea2d6",
   "metadata": {},
   "outputs": [
    {
     "data": {
      "image/png": "[encoded data removed]",
      "text/plain": [
       "<Figure size 640x480 with 1 Axes>"
      ]
     },
     "metadata": {},
     "output_type": "display_data"
    }
   ],
   "source": [
    "#le x label = age groupe:\n",
    "age_groups = list(set(data['age group']))\n",
    "\n",
    "# indices de l'axe X:\n",
    "x_indices = np.arange(len(age_groups))\n",
    "\n",
    "# Creation de la figure :\n",
    "fig, axix = plt.subplots()\n",
    "\n",
    "# creation des bars:\n",
    "axix.bar(x_indices - 0.2, grouped_h_smokers, width=0.4, color='red', align='center')\n",
    "axix.bar(x_indices + 0.2, grouped_h_non_smokers, width=0.4, color='green', align='center')\n",
    "for container in axix.containers:\n",
    "    axix.bar_label(container)\n",
    "\n",
    "# Labels:\n",
    "axix.set_xticks(x_indices)\n",
    "axix.set_xticklabels(age_groups, rotation=0)\n",
    "axix.set_ylabel('Hemoglobin')\n",
    "\n",
    "# la legend:\n",
    "axix.legend(['fumeur', 'Non fumeur'],loc='center',bbox_to_anchor=(1.0, 0.5))\n",
    "\n",
    "# affichage:\n",
    "plt.savefig('hemoglobin-smoker-plot.png')\n",
    "plt.show()\n"
   ]
  },
  {
   "cell_type": "markdown",
   "id": "f5740f72-0e1f-451b-8c4d-ee47f452c061",
   "metadata": {},
   "source": [
    "a la fin on supprime la colonne : age group"
   ]
  },
  {
   "cell_type": "code",
   "execution_count": 12,
   "id": "0f589394",
   "metadata": {},
   "outputs": [],
   "source": [
    "data.drop(\"age group\", axis= 1,inplace=True)"
   ]
  },
  {
   "cell_type": "code",
   "execution_count": 13,
   "id": "e26f4a76",
   "metadata": {},
   "outputs": [],
   "source": [
    "#on definie une fonction qui sepparent les valeurs categorielles, numeriques et mixtes\n",
    "def cat_or_num(data_, cat_t=10):\n",
    "    cat_cols = [col for col in data_.columns if data_[col].dtypes == \"O\"]\n",
    "    num_but_cat = [col for col in data_.columns if data_[col].nunique() < cat_t and\n",
    "                   data_[col].dtypes != \"O\"]\n",
    "    cat_cols = cat_cols + num_but_cat\n",
    "    num_cols = [col for col in data_.columns if data_[col].dtypes != \"O\"]\n",
    "    num_cols = [col for col in num_cols if col not in num_but_cat]\n",
    "\n",
    "    print(f\"Les Observations: {data_.shape[0]}\")\n",
    "    print(f\"Les Variables: {data_.shape[1]}\")\n",
    "    print(f'les colonnes categorilles: {len(cat_cols)}')\n",
    "    print(f'les colonnes numeriques: {len(num_cols)}')\n",
    "    print(f'les colonnes mixtes: {len(num_but_cat)}')\n",
    "\n",
    "    return cat_cols, num_cols, num_but_cat"
   ]
  },
  {
   "cell_type": "code",
   "execution_count": 14,
   "id": "619d65b9",
   "metadata": {},
   "outputs": [
    {
     "name": "stdout",
     "output_type": "stream",
     "text": [
      "Les Observations: 55692\n",
      "Les Variables: 27\n",
      "les colonnes categorilles: 8\n",
      "les colonnes numeriques: 19\n",
      "les colonnes mixtes: 5\n"
     ]
    }
   ],
   "source": [
    "cat_cols, num_cols, num_but_cat = cat_or_num(data)"
   ]
  },
  {
   "cell_type": "markdown",
   "id": "bce3d594",
   "metadata": {},
   "source": [
    "Comme vous pouvez le voir, nous avons 8 variables catégorielles,19 numeriques,5 mixtes Notre objectif est de prédire la colonne Smoking en construisant des modèles d'apprentissage automatique, mais avant, nous devons encore explorer les données."
   ]
  },
  {
   "cell_type": "code",
   "execution_count": 15,
   "id": "a27bd490",
   "metadata": {},
   "outputs": [
    {
     "name": "stdout",
     "output_type": "stream",
     "text": [
      "        gender      Ratio\n",
      "gender                   \n",
      "M        35401  63.565683\n",
      "F        20291  36.434317\n",
      "--------------------------------------------------------\n",
      "       oral  Ratio\n",
      "oral              \n",
      "Y     55692  100.0\n",
      "--------------------------------------------------------\n",
      "        tartar      Ratio\n",
      "tartar                   \n",
      "Y        30940  55.555556\n",
      "N        24752  44.444444\n",
      "--------------------------------------------------------\n",
      "               hearing(left)      Ratio\n",
      "hearing(left)                          \n",
      "1.0                    54267  97.441284\n",
      "2.0                     1425   2.558716\n",
      "--------------------------------------------------------\n",
      "                hearing(right)      Ratio\n",
      "hearing(right)                           \n",
      "1.0                      54236  97.385621\n",
      "2.0                       1456   2.614379\n",
      "--------------------------------------------------------\n",
      "               Urine protein      Ratio\n",
      "Urine protein                          \n",
      "1.0                    52599  94.446240\n",
      "2.0                     1795   3.223084\n",
      "3.0                      940   1.687855\n",
      "4.0                      260   0.466853\n",
      "5.0                       88   0.158012\n",
      "6.0                       10   0.017956\n",
      "--------------------------------------------------------\n",
      "               dental caries      Ratio\n",
      "dental caries                          \n",
      "0                      43811  78.666595\n",
      "1                      11881  21.333405\n",
      "--------------------------------------------------------\n",
      "         smoking      Ratio\n",
      "smoking                    \n",
      "0          35237  63.271206\n",
      "1          20455  36.728794\n",
      "--------------------------------------------------------\n"
     ]
    }
   ],
   "source": [
    "# fonction qui affiche les colonnes categorielles\n",
    "\n",
    "def cat_function(data_, col_name, plot=False):\n",
    "    print(pd.DataFrame({col_name: data_[col_name].value_counts(),\n",
    "                        \"Ratio\": 100 * data_[col_name].value_counts() / len(data_)}))\n",
    "    print(\"--------------------------------------------------------\")\n",
    "\n",
    "    if plot:\n",
    "        sns.countplot(x=data_[col_name], data=data_)\n",
    "        plt.show()\n",
    "for col in cat_cols:\n",
    "    cat_function(data, col)"
   ]
  },
  {
   "cell_type": "markdown",
   "id": "1da63036-5607-4993-8e9e-ffaad3b8f559",
   "metadata": {},
   "source": [
    "# Scalling"
   ]
  },
  {
   "cell_type": "code",
   "execution_count": 16,
   "id": "b6ddfe08",
   "metadata": {},
   "outputs": [],
   "source": [
    "#fonction de normalisation des donnees numeriques\n",
    "def normalize_numerical(data_, num_cols, method='standard'):\n",
    "    if method == 'min_max':\n",
    "        scaler = MinMaxScaler()\n",
    "    elif method == 'standard':\n",
    "        scaler = StandardScaler()\n",
    "    else:\n",
    "        raise ValueError(\"Invalid normalization method: Choose 'min_max' or 'standard'.\")\n",
    "\n",
    "    data_[num_cols] = scaler.fit_transform(data_[num_cols])\n",
    "    return data_\n",
    "\n",
    "# Applying normalization avec standarisation\n",
    "data_normalized = normalize_numerical(data, num_cols)\n",
    "final_data=data_normalized\n"
   ]
  },
  {
   "cell_type": "markdown",
   "id": "1c1d6544",
   "metadata": {},
   "source": [
    "# PREDICTION:\n",
    "1-Logistic Regression\n",
    "\n",
    "2-Random Foret\n",
    "\n",
    "3-Gradient Boosting"
   ]
  },
  {
   "cell_type": "markdown",
   "id": "366037b7-58ad-4807-ab2c-b833e93e302c",
   "metadata": {},
   "source": [
    "# Regression logistique"
   ]
  },
  {
   "cell_type": "code",
   "execution_count": 17,
   "id": "9b9d8bf1",
   "metadata": {},
   "outputs": [],
   "source": [
    "#definition du x et y\n",
    "X = final_data.drop(\"smoking\", axis=1)\n",
    "y = final_data[\"smoking\"]"
   ]
  },
  {
   "cell_type": "markdown",
   "id": "e9efc814-28e9-4f35-90d7-39b9f81bb370",
   "metadata": {},
   "source": [
    "avant on doit encoder les valeurs categorielles en numeriques"
   ]
  },
  {
   "cell_type": "code",
   "execution_count": 18,
   "id": "acf6058e",
   "metadata": {},
   "outputs": [],
   "source": [
    "from sklearn.model_selection import train_test_split\n",
    "from sklearn.preprocessing import StandardScaler, LabelEncoder\n",
    "#encodage des valeurs categorilles en numerique\n",
    "categorical_cols = X.select_dtypes(include=['object']).columns\n",
    "label_encoders = {}\n",
    "for col in categorical_cols:\n",
    "    label_encoders[col] = LabelEncoder()\n",
    "    X[col] = label_encoders[col].fit_transform(X[col])"
   ]
  },
  {
   "cell_type": "code",
   "execution_count": 19,
   "id": "a5696fbc",
   "metadata": {},
   "outputs": [],
   "source": [
    "#on seppare les donnes en test et train\n",
    "X_train, X_test, y_train, y_test = train_test_split(X, y, test_size=0.2, random_state=22)"
   ]
  },
  {
   "cell_type": "code",
   "execution_count": 20,
   "id": "17bdf4a1",
   "metadata": {},
   "outputs": [
    {
     "data": {
      "text/html": [
       "<style>#sk-container-id-1 {color: black;background-color: white;}#sk-container-id-1 pre{padding: 0;}#sk-container-id-1 div.sk-toggleable {background-color: white;}#sk-container-id-1 label.sk-toggleable__label {cursor: pointer;display: block;width: 100%;margin-bottom: 0;padding: 0.3em;box-sizing: border-box;text-align: center;}#sk-container-id-1 label.sk-toggleable__label-arrow:before {content: \"▸\";float: left;margin-right: 0.25em;color: #696969;}#sk-container-id-1 label.sk-toggleable__label-arrow:hover:before {color: black;}#sk-container-id-1 div.sk-estimator:hover label.sk-toggleable__label-arrow:before {color: black;}#sk-container-id-1 div.sk-toggleable__content {max-height: 0;max-width: 0;overflow: hidden;text-align: left;background-color: #f0f8ff;}#sk-container-id-1 div.sk-toggleable__content pre {margin: 0.2em;color: black;border-radius: 0.25em;background-color: #f0f8ff;}#sk-container-id-1 input.sk-toggleable__control:checked~div.sk-toggleable__content {max-height: 200px;max-width: 100%;overflow: auto;}#sk-container-id-1 input.sk-toggleable__control:checked~label.sk-toggleable__label-arrow:before {content: \"▾\";}#sk-container-id-1 div.sk-estimator input.sk-toggleable__control:checked~label.sk-toggleable__label {background-color: #d4ebff;}#sk-container-id-1 div.sk-label input.sk-toggleable__control:checked~label.sk-toggleable__label {background-color: #d4ebff;}#sk-container-id-1 input.sk-hidden--visually {border: 0;clip: rect(1px 1px 1px 1px);clip: rect(1px, 1px, 1px, 1px);height: 1px;margin: -1px;overflow: hidden;padding: 0;position: absolute;width: 1px;}#sk-container-id-1 div.sk-estimator {font-family: monospace;background-color: #f0f8ff;border: 1px dotted black;border-radius: 0.25em;box-sizing: border-box;margin-bottom: 0.5em;}#sk-container-id-1 div.sk-estimator:hover {background-color: #d4ebff;}#sk-container-id-1 div.sk-parallel-item::after {content: \"\";width: 100%;border-bottom: 1px solid gray;flex-grow: 1;}#sk-container-id-1 div.sk-label:hover label.sk-toggleable__label {background-color: #d4ebff;}#sk-container-id-1 div.sk-serial::before {content: \"\";position: absolute;border-left: 1px solid gray;box-sizing: border-box;top: 0;bottom: 0;left: 50%;z-index: 0;}#sk-container-id-1 div.sk-serial {display: flex;flex-direction: column;align-items: center;background-color: white;padding-right: 0.2em;padding-left: 0.2em;position: relative;}#sk-container-id-1 div.sk-item {position: relative;z-index: 1;}#sk-container-id-1 div.sk-parallel {display: flex;align-items: stretch;justify-content: center;background-color: white;position: relative;}#sk-container-id-1 div.sk-item::before, #sk-container-id-1 div.sk-parallel-item::before {content: \"\";position: absolute;border-left: 1px solid gray;box-sizing: border-box;top: 0;bottom: 0;left: 50%;z-index: -1;}#sk-container-id-1 div.sk-parallel-item {display: flex;flex-direction: column;z-index: 1;position: relative;background-color: white;}#sk-container-id-1 div.sk-parallel-item:first-child::after {align-self: flex-end;width: 50%;}#sk-container-id-1 div.sk-parallel-item:last-child::after {align-self: flex-start;width: 50%;}#sk-container-id-1 div.sk-parallel-item:only-child::after {width: 0;}#sk-container-id-1 div.sk-dashed-wrapped {border: 1px dashed gray;margin: 0 0.4em 0.5em 0.4em;box-sizing: border-box;padding-bottom: 0.4em;background-color: white;}#sk-container-id-1 div.sk-label label {font-family: monospace;font-weight: bold;display: inline-block;line-height: 1.2em;}#sk-container-id-1 div.sk-label-container {text-align: center;}#sk-container-id-1 div.sk-container {/* jupyter's `normalize.less` sets `[hidden] { display: none; }` but bootstrap.min.css set `[hidden] { display: none !important; }` so we also need the `!important` here to be able to override the default hidden behavior on the sphinx rendered scikit-learn.org. See: https://github.com/scikit-learn/scikit-learn/issues/21755 */display: inline-block !important;position: relative;}#sk-container-id-1 div.sk-text-repr-fallback {display: none;}</style><div id=\"sk-container-id-1\" class=\"sk-top-container\"><div class=\"sk-text-repr-fallback\"><pre>LogisticRegression()</pre><b>In a Jupyter environment, please rerun this cell to show the HTML representation or trust the notebook. <br />On GitHub, the HTML representation is unable to render, please try loading this page with nbviewer.org.</b></div><div class=\"sk-container\" hidden><div class=\"sk-item\"><div class=\"sk-estimator sk-toggleable\"><input class=\"sk-toggleable__control sk-hidden--visually\" id=\"sk-estimator-id-1\" type=\"checkbox\" checked><label for=\"sk-estimator-id-1\" class=\"sk-toggleable__label sk-toggleable__label-arrow\">LogisticRegression</label><div class=\"sk-toggleable__content\"><pre>LogisticRegression()</pre></div></div></div></div></div>"
      ],
      "text/plain": [
       "LogisticRegression()"
      ]
     },
     "execution_count": 20,
     "metadata": {},
     "output_type": "execute_result"
    }
   ],
   "source": [
    "# entrainnement du model logistique\n",
    "logictic_model = LogisticRegression()\n",
    "logictic_model.fit(X_train, y_train)"
   ]
  },
  {
   "cell_type": "code",
   "execution_count": 21,
   "id": "2d58c80e",
   "metadata": {},
   "outputs": [],
   "source": [
    "# la prediciction de y pour les X tests\n",
    "y_prediction = logictic_model.predict(X_test)\n"
   ]
  },
  {
   "cell_type": "code",
   "execution_count": 22,
   "id": "055e63e9-cc7d-4af9-8ebb-2dff429ebb9d",
   "metadata": {},
   "outputs": [],
   "source": [
    "#definition de la matrice de confusion en fonction\n",
    "def plot_confusion_matrix(y_true, y_pred):\n",
    "    #accuracy\n",
    "    acc = round(accuracy_score(y_true, y_pred), 2)\n",
    "    cm = confusion_matrix(y_true, y_pred)\n",
    "    sns.heatmap(cm, annot=True, fmt='.0f')\n",
    "    plt.xlabel(\"Y actual\")\n",
    "    plt.ylabel(\"Y predicted\")\n",
    "    plt.title(f\"Matrice de confusion (Accuracy: {acc})\")\n",
    "    plt.show()"
   ]
  },
  {
   "cell_type": "markdown",
   "id": "7e7bafe5",
   "metadata": {},
   "source": [
    "Ici, nous pouvons voir quelles valeurs étaient en fait 1 et 0, et combien de prédictions correctes et erronées notre modèle a faites. Cette image l'explique clairement:"
   ]
  },
  {
   "cell_type": "code",
   "execution_count": 21,
   "id": "ed8e6af9",
   "metadata": {},
   "outputs": [
    {
     "data": {
      "image/png": "[encoded data removed]",
      "text/plain": [
       "<Figure size 640x480 with 2 Axes>"
      ]
     },
     "metadata": {},
     "output_type": "display_data"
    }
   ],
   "source": [
    "#matrice de conf:y_test et y_prediction\n",
    "plot_confusion_matrix(y_test,y_prediction)"
   ]
  },
  {
   "cell_type": "code",
   "execution_count": 22,
   "id": "76fce554",
   "metadata": {},
   "outputs": [
    {
     "name": "stdout",
     "output_type": "stream",
     "text": [
      "Accuracy: 0.74\n"
     ]
    }
   ],
   "source": [
    "#accuracy \n",
    "accuracy = accuracy_score(y_test, y_prediction)\n",
    "print(f'Accuracy: {accuracy:.2f}')"
   ]
  },
  {
   "cell_type": "code",
   "execution_count": 23,
   "id": "f82a8de7",
   "metadata": {},
   "outputs": [
    {
     "data": {
      "text/plain": [
       "array([1, 0, 1, 0, 0, 1, 1, 0, 1, 1], dtype=int64)"
      ]
     },
     "execution_count": 23,
     "metadata": {},
     "output_type": "execute_result"
    }
   ],
   "source": [
    "#les 10 premier lignes de prediction\n",
    "y_prediction[:10]"
   ]
  },
  {
   "cell_type": "code",
   "execution_count": 24,
   "id": "17f22769",
   "metadata": {},
   "outputs": [
    {
     "name": "stdout",
     "output_type": "stream",
     "text": [
      "Score de precision  : 0.6434589800443459\n",
      "Score F1 : 0.669666551286489\n",
      "Rappel : 0.6980995910512389\n"
     ]
    }
   ],
   "source": [
    "#les scores pour test\n",
    "#score de precision\n",
    "precision_reg_test = precision_score(y_test, y_prediction)\n",
    "print(f\"Score de precision  : {precision_reg_test}\")\n",
    "#score de recall\n",
    "recall_reg_test = recall_score(y_test, y_prediction)\n",
    "#le score F1\n",
    "Score_f1_reg_test = f1_score(y_test, y_prediction)\n",
    "print(f\"Score F1 : {Score_f1_reg_test}\")\n",
    "print(f\"Rappel : {recall_reg_test}\")"
   ]
  },
  {
   "cell_type": "code",
   "execution_count": 25,
   "id": "b715a818",
   "metadata": {},
   "outputs": [
    {
     "name": "stdout",
     "output_type": "stream",
     "text": [
      "Accuracy: 0.75\n"
     ]
    },
    {
     "data": {
      "image/png": "[encoded data removed]",
      "text/plain": [
       "<Figure size 640x480 with 2 Axes>"
      ]
     },
     "metadata": {},
     "output_type": "display_data"
    }
   ],
   "source": [
    "#matrice de confusion\n",
    "y_pred = logictic_model.predict(X_train)\n",
    "accuracy = accuracy_score(y_train, y_pred)\n",
    "print(f'Accuracy: {accuracy:.2f}')\n",
    "plot_confusion_matrix(y_train, y_pred)\n"
   ]
  },
  {
   "cell_type": "markdown",
   "id": "86a519fd-2b62-4144-87ac-8556ae0d450f",
   "metadata": {},
   "source": [
    "Maintenant evaluation du train"
   ]
  },
  {
   "cell_type": "code",
   "execution_count": 27,
   "id": "93e1bb06-1c96-4f0d-807a-0e3b30c00c36",
   "metadata": {},
   "outputs": [
    {
     "name": "stdout",
     "output_type": "stream",
     "text": [
      "Score de precision : 0.6428408832233098\n",
      "Score F1 : 0.6670209625036906\n",
      "Rappel : 0.6930911768315131\n"
     ]
    }
   ],
   "source": [
    "#les scores pour train\n",
    "#score de precision\n",
    "precision_train = precision_score(y_train, y_pred)\n",
    "print(f\"Score de precision : {precision_train}\")\n",
    "#score de recall\n",
    "recall_train = recall_score(y_train, y_pred)\n",
    "#le score F1\n",
    "Score_f1_train = f1_score(y_train, y_pred)\n",
    "print(f\"Score F1 : {Score_f1_train}\")\n",
    "print(f\"Rappel : {recall_train}\")\n"
   ]
  },
  {
   "cell_type": "markdown",
   "id": "28847b8d",
   "metadata": {},
   "source": [
    "\n",
    "L' Accuracy est de 0,75 et nous pouvons dire que notre modèle n'est pas surajusté."
   ]
  },
  {
   "cell_type": "markdown",
   "id": "8fb3b382",
   "metadata": {},
   "source": [
    "# RANDOM FOREST "
   ]
  },
  {
   "cell_type": "code",
   "execution_count": 28,
   "id": "ed850283",
   "metadata": {},
   "outputs": [],
   "source": [
    "#split \n",
    "X_train, X_test, y_train, y_test = train_test_split(X, y, test_size=0.2, random_state=22)"
   ]
  },
  {
   "cell_type": "code",
   "execution_count": 29,
   "id": "9dda79ee",
   "metadata": {},
   "outputs": [],
   "source": [
    "#entrainement du model\n",
    "randomForest = RandomForestClassifier(random_state=42).fit(X_train, y_train)"
   ]
  },
  {
   "cell_type": "code",
   "execution_count": 30,
   "id": "4ea5d40c",
   "metadata": {},
   "outputs": [],
   "source": [
    "#Pour voir les performances du modèle sur de nouvelles données invisibles\n",
    "y_predicted_rf = randomForest.predict(X_test)"
   ]
  },
  {
   "cell_type": "code",
   "execution_count": 31,
   "id": "a7b9772d",
   "metadata": {},
   "outputs": [
    {
     "name": "stdout",
     "output_type": "stream",
     "text": [
      "Accuracy: 0.83\n"
     ]
    }
   ],
   "source": [
    "#accuracy\n",
    "accuracy = accuracy_score(y_test, y_predicted_rf)\n",
    "print(f'Accuracy: {accuracy:.2f}')"
   ]
  },
  {
   "cell_type": "code",
   "execution_count": 32,
   "id": "16d77432",
   "metadata": {},
   "outputs": [
    {
     "data": {
      "image/png": "[encoded data removed]",
      "text/plain": [
       "<Figure size 640x480 with 2 Axes>"
      ]
     },
     "metadata": {},
     "output_type": "display_data"
    }
   ],
   "source": [
    "#matrice de confusion\n",
    "plot_confusion_matrix(y_test, y_predicted_rf)"
   ]
  },
  {
   "cell_type": "code",
   "execution_count": 33,
   "id": "15d16a08",
   "metadata": {},
   "outputs": [
    {
     "name": "stdout",
     "output_type": "stream",
     "text": [
      "Score de precision du gradient : 0.7580201649862511\n",
      "Score F1 du Randomforest  : 0.7764346907639949\n",
      "Rappel du Randomforest  : 0.795766177531874\n"
     ]
    }
   ],
   "source": [
    "#report sur les scores (precision,recall,f1 score)\n",
    "precision_rf_test = precision_score(y_test, y_predicted_rf)\n",
    "print(f\"Score de precision du gradient : {precision_rf_test}\")\n",
    "#score de recall\n",
    "recall_test_rf = recall_score(y_test, y_predicted_rf)\n",
    "#le score F1\n",
    "Score_f1_rf_test = f1_score(y_test, y_predicted_rf)\n",
    "print(f\"Score F1 du Randomforest  : {Score_f1_rf_test}\")\n",
    "print(f\"Rappel du Randomforest  : {recall_test_rf}\")"
   ]
  },
  {
   "cell_type": "code",
   "execution_count": 34,
   "id": "368f447f",
   "metadata": {},
   "outputs": [],
   "source": [
    "#Évaluation de la précision des données du train\n",
    "y_pred_train_rf = randomForest.predict(X_train)"
   ]
  },
  {
   "cell_type": "code",
   "execution_count": 35,
   "id": "7c88b387",
   "metadata": {},
   "outputs": [
    {
     "name": "stdout",
     "output_type": "stream",
     "text": [
      "Accuracy: 1.00\n"
     ]
    }
   ],
   "source": [
    "accuracy = accuracy_score(y_train, y_pred_train_rf)\n",
    "print(f'Accuracy: {accuracy:.2f}')"
   ]
  },
  {
   "cell_type": "code",
   "execution_count": 36,
   "id": "42eaaa89",
   "metadata": {},
   "outputs": [
    {
     "data": {
      "image/png": "[encoded data removed]",
      "text/plain": [
       "<Figure size 640x480 with 2 Axes>"
      ]
     },
     "metadata": {},
     "output_type": "display_data"
    }
   ],
   "source": [
    "plot_confusion_matrix(y_train, y_pred_train_rf)"
   ]
  },
  {
   "cell_type": "markdown",
   "id": "bf0ff982",
   "metadata": {},
   "source": [
    "# Algorithme du Gradient"
   ]
  },
  {
   "cell_type": "code",
   "execution_count": 37,
   "id": "416d93e7",
   "metadata": {},
   "outputs": [],
   "source": [
    "#entrainement du model\n",
    "gradient_model = GradientBoostingClassifier(random_state=22).fit(X_train, y_train)"
   ]
  },
  {
   "cell_type": "code",
   "execution_count": 38,
   "id": "c562208a",
   "metadata": {},
   "outputs": [],
   "source": [
    "y_pred_grad_test = gradient_model.predict(X_test)\n"
   ]
  },
  {
   "cell_type": "code",
   "execution_count": 39,
   "id": "b543f868-8812-4e8d-80b6-10ace83b5bfe",
   "metadata": {},
   "outputs": [
    {
     "data": {
      "image/png": "[encoded data removed]",
      "text/plain": [
       "<Figure size 640x480 with 2 Axes>"
      ]
     },
     "metadata": {},
     "output_type": "display_data"
    }
   ],
   "source": [
    "plot_confusion_matrix(y_test, y_pred_grad_test)"
   ]
  },
  {
   "cell_type": "code",
   "execution_count": 40,
   "id": "43354c37",
   "metadata": {},
   "outputs": [
    {
     "name": "stdout",
     "output_type": "stream",
     "text": [
      "Score de precision du gradient : 0.6709200805910007\n",
      "Score F1 du gradient  : 0.6950371057513914\n",
      "Rappel du gradient  : 0.7209526100553284\n"
     ]
    }
   ],
   "source": [
    "#presition test\n",
    "precision_test_grad = precision_score(y_test, y_pred_grad_test)\n",
    "print(f\"Score de precision du gradient : {precision_test_grad}\")\n",
    "#score de recall\n",
    "recall_test_grad = recall_score(y_test, y_pred_grad_test)\n",
    "#le score F1\n",
    "Score_f1_test_grad = f1_score(y_test, y_pred_grad_test)\n",
    "print(f\"Score F1 du gradient  : {Score_f1_test_grad}\")\n",
    "print(f\"Rappel du gradient  : {recall_test_grad}\")"
   ]
  },
  {
   "cell_type": "code",
   "execution_count": 41,
   "id": "826f27a1",
   "metadata": {},
   "outputs": [],
   "source": [
    "#Évaluation de la précision des données d'entraînement"
   ]
  },
  {
   "cell_type": "code",
   "execution_count": 42,
   "id": "d4f4b2f0",
   "metadata": {},
   "outputs": [],
   "source": [
    "y_pred_grad_train = gradient_model.predict(X_train)"
   ]
  },
  {
   "cell_type": "code",
   "execution_count": 43,
   "id": "362b8e48-43db-4734-a723-a797c840dcc8",
   "metadata": {},
   "outputs": [
    {
     "data": {
      "image/png": "[encoded data removed]",
      "text/plain": [
       "<Figure size 640x480 with 2 Axes>"
      ]
     },
     "metadata": {},
     "output_type": "display_data"
    }
   ],
   "source": [
    "plot_confusion_matrix(y_train, y_pred_grad_train)"
   ]
  },
  {
   "cell_type": "code",
   "execution_count": 44,
   "id": "29bca9b7",
   "metadata": {},
   "outputs": [
    {
     "name": "stdout",
     "output_type": "stream",
     "text": [
      "Score de precision du gradient : 0.6779111439786109\n",
      "Score F1 du gradient  : 0.7035451781444638\n",
      "Rappel du gradient  : 0.7311940115351577\n"
     ]
    }
   ],
   "source": [
    "#les scores pour train\n",
    "#score de precision\n",
    "precision_train_grad = precision_score(y_train, y_pred_grad_train)\n",
    "print(f\"Score de precision du gradient : {precision_train_grad}\")\n",
    "#score de recall\n",
    "recall_train_grad = recall_score(y_train, y_pred_grad_train)\n",
    "#le score F1\n",
    "Score_f1_train_grad = f1_score(y_train, y_pred_grad_train)\n",
    "print(f\"Score F1 du gradient  : {Score_f1_train_grad}\")\n",
    "print(f\"Rappel du gradient  : {recall_train_grad}\")\n"
   ]
  },
  {
   "cell_type": "markdown",
   "id": "9586ae21",
   "metadata": {},
   "source": [
    "Le score de accuracy sur les données d'entraînement est de 0,77, nous pouvons donc dire que le modèle n'est pas surajusté."
   ]
  },
  {
   "cell_type": "markdown",
   "id": "5388c0fb-c396-479f-8f60-bed2f074b75e",
   "metadata": {},
   "source": [
    "# Gradient avec optimisation des parametres"
   ]
  },
  {
   "cell_type": "code",
   "execution_count": 45,
   "id": "d030ab20",
   "metadata": {},
   "outputs": [],
   "source": [
    "#Afin d'optimiser les performances du modèle d'amplification de gradient, un processus de réglage du modèle a été effectué.\n",
    "gbm_params = {\"learning_rate\": [0.2, 0.1, 0.01],\n",
    "             \"max_depth\":[3,5,8,10],\n",
    "             \"n_estimators\":[10, 100]}"
   ]
  },
  {
   "cell_type": "code",
   "execution_count": 46,
   "id": "6197414c",
   "metadata": {},
   "outputs": [],
   "source": [
    "#chargement du model gradient\n",
    "gbm_model = GradientBoostingClassifier(random_state=42)"
   ]
  },
  {
   "cell_type": "code",
   "execution_count": 47,
   "id": "283082b9",
   "metadata": {},
   "outputs": [],
   "source": [
    "from sklearn.model_selection import RandomizedSearchCV\n",
    "from sklearn.ensemble import GradientBoostingClassifier\n",
    "from scipy.stats import randint\n",
    "#\n",
    "random_search = RandomizedSearchCV(gbm_model, gbm_params, n_iter=15, cv=5, scoring='accuracy', random_state=42)"
   ]
  },
  {
   "cell_type": "code",
   "execution_count": 48,
   "id": "4b92178f-9a88-45ff-b44e-492b770a45c4",
   "metadata": {
    "scrolled": true
   },
   "outputs": [
    {
     "data": {
      "text/html": [
       "<style>#sk-container-id-2 {\n",
       "  /* Definition of color scheme common for light and dark mode */\n",
       "  --sklearn-color-text: black;\n",
       "  --sklearn-color-line: gray;\n",
       "  /* Definition of color scheme for unfitted estimators */\n",
       "  --sklearn-color-unfitted-level-0: #fff5e6;\n",
       "  --sklearn-color-unfitted-level-1: #f6e4d2;\n",
       "  --sklearn-color-unfitted-level-2: #ffe0b3;\n",
       "  --sklearn-color-unfitted-level-3: chocolate;\n",
       "  /* Definition of color scheme for fitted estimators */\n",
       "  --sklearn-color-fitted-level-0: #f0f8ff;\n",
       "  --sklearn-color-fitted-level-1: #d4ebff;\n",
       "  --sklearn-color-fitted-level-2: #b3dbfd;\n",
       "  --sklearn-color-fitted-level-3: cornflowerblue;\n",
       "\n",
       "  /* Specific color for light theme */\n",
       "  --sklearn-color-text-on-default-background: var(--sg-text-color, var(--theme-code-foreground, var(--jp-content-font-color1, black)));\n",
       "  --sklearn-color-background: var(--sg-background-color, var(--theme-background, var(--jp-layout-color0, white)));\n",
       "  --sklearn-color-border-box: var(--sg-text-color, var(--theme-code-foreground, var(--jp-content-font-color1, black)));\n",
       "  --sklearn-color-icon: #696969;\n",
       "\n",
       "  @media (prefers-color-scheme: dark) {\n",
       "    /* Redefinition of color scheme for dark theme */\n",
       "    --sklearn-color-text-on-default-background: var(--sg-text-color, var(--theme-code-foreground, var(--jp-content-font-color1, white)));\n",
       "    --sklearn-color-background: var(--sg-background-color, var(--theme-background, var(--jp-layout-color0, #111)));\n",
       "    --sklearn-color-border-box: var(--sg-text-color, var(--theme-code-foreground, var(--jp-content-font-color1, white)));\n",
       "    --sklearn-color-icon: #878787;\n",
       "  }\n",
       "}\n",
       "\n",
       "#sk-container-id-2 {\n",
       "  color: var(--sklearn-color-text);\n",
       "}\n",
       "\n",
       "#sk-container-id-2 pre {\n",
       "  padding: 0;\n",
       "}\n",
       "\n",
       "#sk-container-id-2 input.sk-hidden--visually {\n",
       "  border: 0;\n",
       "  clip: rect(1px 1px 1px 1px);\n",
       "  clip: rect(1px, 1px, 1px, 1px);\n",
       "  height: 1px;\n",
       "  margin: -1px;\n",
       "  overflow: hidden;\n",
       "  padding: 0;\n",
       "  position: absolute;\n",
       "  width: 1px;\n",
       "}\n",
       "\n",
       "#sk-container-id-2 div.sk-dashed-wrapped {\n",
       "  border: 1px dashed var(--sklearn-color-line);\n",
       "  margin: 0 0.4em 0.5em 0.4em;\n",
       "  box-sizing: border-box;\n",
       "  padding-bottom: 0.4em;\n",
       "  background-color: var(--sklearn-color-background);\n",
       "}\n",
       "\n",
       "#sk-container-id-2 div.sk-container {\n",
       "  /* jupyter's `normalize.less` sets `[hidden] { display: none; }`\n",
       "     but bootstrap.min.css set `[hidden] { display: none !important; }`\n",
       "     so we also need the `!important` here to be able to override the\n",
       "     default hidden behavior on the sphinx rendered scikit-learn.org.\n",
       "     See: https://github.com/scikit-learn/scikit-learn/issues/21755 */\n",
       "  display: inline-block !important;\n",
       "  position: relative;\n",
       "}\n",
       "\n",
       "#sk-container-id-2 div.sk-text-repr-fallback {\n",
       "  display: none;\n",
       "}\n",
       "\n",
       "div.sk-parallel-item,\n",
       "div.sk-serial,\n",
       "div.sk-item {\n",
       "  /* draw centered vertical line to link estimators */\n",
       "  background-image: linear-gradient(var(--sklearn-color-text-on-default-background), var(--sklearn-color-text-on-default-background));\n",
       "  background-size: 2px 100%;\n",
       "  background-repeat: no-repeat;\n",
       "  background-position: center center;\n",
       "}\n",
       "\n",
       "/* Parallel-specific style estimator block */\n",
       "\n",
       "#sk-container-id-2 div.sk-parallel-item::after {\n",
       "  content: \"\";\n",
       "  width: 100%;\n",
       "  border-bottom: 2px solid var(--sklearn-color-text-on-default-background);\n",
       "  flex-grow: 1;\n",
       "}\n",
       "\n",
       "#sk-container-id-2 div.sk-parallel {\n",
       "  display: flex;\n",
       "  align-items: stretch;\n",
       "  justify-content: center;\n",
       "  background-color: var(--sklearn-color-background);\n",
       "  position: relative;\n",
       "}\n",
       "\n",
       "#sk-container-id-2 div.sk-parallel-item {\n",
       "  display: flex;\n",
       "  flex-direction: column;\n",
       "}\n",
       "\n",
       "#sk-container-id-2 div.sk-parallel-item:first-child::after {\n",
       "  align-self: flex-end;\n",
       "  width: 50%;\n",
       "}\n",
       "\n",
       "#sk-container-id-2 div.sk-parallel-item:last-child::after {\n",
       "  align-self: flex-start;\n",
       "  width: 50%;\n",
       "}\n",
       "\n",
       "#sk-container-id-2 div.sk-parallel-item:only-child::after {\n",
       "  width: 0;\n",
       "}\n",
       "\n",
       "/* Serial-specific style estimator block */\n",
       "\n",
       "#sk-container-id-2 div.sk-serial {\n",
       "  display: flex;\n",
       "  flex-direction: column;\n",
       "  align-items: center;\n",
       "  background-color: var(--sklearn-color-background);\n",
       "  padding-right: 1em;\n",
       "  padding-left: 1em;\n",
       "}\n",
       "\n",
       "\n",
       "/* Toggleable style: style used for estimator/Pipeline/ColumnTransformer box that is\n",
       "clickable and can be expanded/collapsed.\n",
       "- Pipeline and ColumnTransformer use this feature and define the default style\n",
       "- Estimators will overwrite some part of the style using the `sk-estimator` class\n",
       "*/\n",
       "\n",
       "/* Pipeline and ColumnTransformer style (default) */\n",
       "\n",
       "#sk-container-id-2 div.sk-toggleable {\n",
       "  /* Default theme specific background. It is overwritten whether we have a\n",
       "  specific estimator or a Pipeline/ColumnTransformer */\n",
       "  background-color: var(--sklearn-color-background);\n",
       "}\n",
       "\n",
       "/* Toggleable label */\n",
       "#sk-container-id-2 label.sk-toggleable__label {\n",
       "  cursor: pointer;\n",
       "  display: block;\n",
       "  width: 100%;\n",
       "  margin-bottom: 0;\n",
       "  padding: 0.5em;\n",
       "  box-sizing: border-box;\n",
       "  text-align: center;\n",
       "}\n",
       "\n",
       "#sk-container-id-2 label.sk-toggleable__label-arrow:before {\n",
       "  /* Arrow on the left of the label */\n",
       "  content: \"▸\";\n",
       "  float: left;\n",
       "  margin-right: 0.25em;\n",
       "  color: var(--sklearn-color-icon);\n",
       "}\n",
       "\n",
       "#sk-container-id-2 label.sk-toggleable__label-arrow:hover:before {\n",
       "  color: var(--sklearn-color-text);\n",
       "}\n",
       "\n",
       "/* Toggleable content - dropdown */\n",
       "\n",
       "#sk-container-id-2 div.sk-toggleable__content {\n",
       "  max-height: 0;\n",
       "  max-width: 0;\n",
       "  overflow: hidden;\n",
       "  text-align: left;\n",
       "  /* unfitted */\n",
       "  background-color: var(--sklearn-color-unfitted-level-0);\n",
       "}\n",
       "\n",
       "#sk-container-id-2 div.sk-toggleable__content.fitted {\n",
       "  /* fitted */\n",
       "  background-color: var(--sklearn-color-fitted-level-0);\n",
       "}\n",
       "\n",
       "#sk-container-id-2 div.sk-toggleable__content pre {\n",
       "  margin: 0.2em;\n",
       "  border-radius: 0.25em;\n",
       "  color: var(--sklearn-color-text);\n",
       "  /* unfitted */\n",
       "  background-color: var(--sklearn-color-unfitted-level-0);\n",
       "}\n",
       "\n",
       "#sk-container-id-2 div.sk-toggleable__content.fitted pre {\n",
       "  /* unfitted */\n",
       "  background-color: var(--sklearn-color-fitted-level-0);\n",
       "}\n",
       "\n",
       "#sk-container-id-2 input.sk-toggleable__control:checked~div.sk-toggleable__content {\n",
       "  /* Expand drop-down */\n",
       "  max-height: 200px;\n",
       "  max-width: 100%;\n",
       "  overflow: auto;\n",
       "}\n",
       "\n",
       "#sk-container-id-2 input.sk-toggleable__control:checked~label.sk-toggleable__label-arrow:before {\n",
       "  content: \"▾\";\n",
       "}\n",
       "\n",
       "/* Pipeline/ColumnTransformer-specific style */\n",
       "\n",
       "#sk-container-id-2 div.sk-label input.sk-toggleable__control:checked~label.sk-toggleable__label {\n",
       "  color: var(--sklearn-color-text);\n",
       "  background-color: var(--sklearn-color-unfitted-level-2);\n",
       "}\n",
       "\n",
       "#sk-container-id-2 div.sk-label.fitted input.sk-toggleable__control:checked~label.sk-toggleable__label {\n",
       "  background-color: var(--sklearn-color-fitted-level-2);\n",
       "}\n",
       "\n",
       "/* Estimator-specific style */\n",
       "\n",
       "/* Colorize estimator box */\n",
       "#sk-container-id-2 div.sk-estimator input.sk-toggleable__control:checked~label.sk-toggleable__label {\n",
       "  /* unfitted */\n",
       "  background-color: var(--sklearn-color-unfitted-level-2);\n",
       "}\n",
       "\n",
       "#sk-container-id-2 div.sk-estimator.fitted input.sk-toggleable__control:checked~label.sk-toggleable__label {\n",
       "  /* fitted */\n",
       "  background-color: var(--sklearn-color-fitted-level-2);\n",
       "}\n",
       "\n",
       "#sk-container-id-2 div.sk-label label.sk-toggleable__label,\n",
       "#sk-container-id-2 div.sk-label label {\n",
       "  /* The background is the default theme color */\n",
       "  color: var(--sklearn-color-text-on-default-background);\n",
       "}\n",
       "\n",
       "/* On hover, darken the color of the background */\n",
       "#sk-container-id-2 div.sk-label:hover label.sk-toggleable__label {\n",
       "  color: var(--sklearn-color-text);\n",
       "  background-color: var(--sklearn-color-unfitted-level-2);\n",
       "}\n",
       "\n",
       "/* Label box, darken color on hover, fitted */\n",
       "#sk-container-id-2 div.sk-label.fitted:hover label.sk-toggleable__label.fitted {\n",
       "  color: var(--sklearn-color-text);\n",
       "  background-color: var(--sklearn-color-fitted-level-2);\n",
       "}\n",
       "\n",
       "/* Estimator label */\n",
       "\n",
       "#sk-container-id-2 div.sk-label label {\n",
       "  font-family: monospace;\n",
       "  font-weight: bold;\n",
       "  display: inline-block;\n",
       "  line-height: 1.2em;\n",
       "}\n",
       "\n",
       "#sk-container-id-2 div.sk-label-container {\n",
       "  text-align: center;\n",
       "}\n",
       "\n",
       "/* Estimator-specific */\n",
       "#sk-container-id-2 div.sk-estimator {\n",
       "  font-family: monospace;\n",
       "  border: 1px dotted var(--sklearn-color-border-box);\n",
       "  border-radius: 0.25em;\n",
       "  box-sizing: border-box;\n",
       "  margin-bottom: 0.5em;\n",
       "  /* unfitted */\n",
       "  background-color: var(--sklearn-color-unfitted-level-0);\n",
       "}\n",
       "\n",
       "#sk-container-id-2 div.sk-estimator.fitted {\n",
       "  /* fitted */\n",
       "  background-color: var(--sklearn-color-fitted-level-0);\n",
       "}\n",
       "\n",
       "/* on hover */\n",
       "#sk-container-id-2 div.sk-estimator:hover {\n",
       "  /* unfitted */\n",
       "  background-color: var(--sklearn-color-unfitted-level-2);\n",
       "}\n",
       "\n",
       "#sk-container-id-2 div.sk-estimator.fitted:hover {\n",
       "  /* fitted */\n",
       "  background-color: var(--sklearn-color-fitted-level-2);\n",
       "}\n",
       "\n",
       "/* Specification for estimator info (e.g. \"i\" and \"?\") */\n",
       "\n",
       "/* Common style for \"i\" and \"?\" */\n",
       "\n",
       ".sk-estimator-doc-link,\n",
       "a:link.sk-estimator-doc-link,\n",
       "a:visited.sk-estimator-doc-link {\n",
       "  float: right;\n",
       "  font-size: smaller;\n",
       "  line-height: 1em;\n",
       "  font-family: monospace;\n",
       "  background-color: var(--sklearn-color-background);\n",
       "  border-radius: 1em;\n",
       "  height: 1em;\n",
       "  width: 1em;\n",
       "  text-decoration: none !important;\n",
       "  margin-left: 1ex;\n",
       "  /* unfitted */\n",
       "  border: var(--sklearn-color-unfitted-level-1) 1pt solid;\n",
       "  color: var(--sklearn-color-unfitted-level-1);\n",
       "}\n",
       "\n",
       ".sk-estimator-doc-link.fitted,\n",
       "a:link.sk-estimator-doc-link.fitted,\n",
       "a:visited.sk-estimator-doc-link.fitted {\n",
       "  /* fitted */\n",
       "  border: var(--sklearn-color-fitted-level-1) 1pt solid;\n",
       "  color: var(--sklearn-color-fitted-level-1);\n",
       "}\n",
       "\n",
       "/* On hover */\n",
       "div.sk-estimator:hover .sk-estimator-doc-link:hover,\n",
       ".sk-estimator-doc-link:hover,\n",
       "div.sk-label-container:hover .sk-estimator-doc-link:hover,\n",
       ".sk-estimator-doc-link:hover {\n",
       "  /* unfitted */\n",
       "  background-color: var(--sklearn-color-unfitted-level-3);\n",
       "  color: var(--sklearn-color-background);\n",
       "  text-decoration: none;\n",
       "}\n",
       "\n",
       "div.sk-estimator.fitted:hover .sk-estimator-doc-link.fitted:hover,\n",
       ".sk-estimator-doc-link.fitted:hover,\n",
       "div.sk-label-container:hover .sk-estimator-doc-link.fitted:hover,\n",
       ".sk-estimator-doc-link.fitted:hover {\n",
       "  /* fitted */\n",
       "  background-color: var(--sklearn-color-fitted-level-3);\n",
       "  color: var(--sklearn-color-background);\n",
       "  text-decoration: none;\n",
       "}\n",
       "\n",
       "/* Span, style for the box shown on hovering the info icon */\n",
       ".sk-estimator-doc-link span {\n",
       "  display: none;\n",
       "  z-index: 9999;\n",
       "  position: relative;\n",
       "  font-weight: normal;\n",
       "  right: .2ex;\n",
       "  padding: .5ex;\n",
       "  margin: .5ex;\n",
       "  width: min-content;\n",
       "  min-width: 20ex;\n",
       "  max-width: 50ex;\n",
       "  color: var(--sklearn-color-text);\n",
       "  box-shadow: 2pt 2pt 4pt #999;\n",
       "  /* unfitted */\n",
       "  background: var(--sklearn-color-unfitted-level-0);\n",
       "  border: .5pt solid var(--sklearn-color-unfitted-level-3);\n",
       "}\n",
       "\n",
       ".sk-estimator-doc-link.fitted span {\n",
       "  /* fitted */\n",
       "  background: var(--sklearn-color-fitted-level-0);\n",
       "  border: var(--sklearn-color-fitted-level-3);\n",
       "}\n",
       "\n",
       ".sk-estimator-doc-link:hover span {\n",
       "  display: block;\n",
       "}\n",
       "\n",
       "/* \"?\"-specific style due to the `<a>` HTML tag */\n",
       "\n",
       "#sk-container-id-2 a.estimator_doc_link {\n",
       "  float: right;\n",
       "  font-size: 1rem;\n",
       "  line-height: 1em;\n",
       "  font-family: monospace;\n",
       "  background-color: var(--sklearn-color-background);\n",
       "  border-radius: 1rem;\n",
       "  height: 1rem;\n",
       "  width: 1rem;\n",
       "  text-decoration: none;\n",
       "  /* unfitted */\n",
       "  color: var(--sklearn-color-unfitted-level-1);\n",
       "  border: var(--sklearn-color-unfitted-level-1) 1pt solid;\n",
       "}\n",
       "\n",
       "#sk-container-id-2 a.estimator_doc_link.fitted {\n",
       "  /* fitted */\n",
       "  border: var(--sklearn-color-fitted-level-1) 1pt solid;\n",
       "  color: var(--sklearn-color-fitted-level-1);\n",
       "}\n",
       "\n",
       "/* On hover */\n",
       "#sk-container-id-2 a.estimator_doc_link:hover {\n",
       "  /* unfitted */\n",
       "  background-color: var(--sklearn-color-unfitted-level-3);\n",
       "  color: var(--sklearn-color-background);\n",
       "  text-decoration: none;\n",
       "}\n",
       "\n",
       "#sk-container-id-2 a.estimator_doc_link.fitted:hover {\n",
       "  /* fitted */\n",
       "  background-color: var(--sklearn-color-fitted-level-3);\n",
       "}\n",
       "</style><div id=\"sk-container-id-2\" class=\"sk-top-container\"><div class=\"sk-text-repr-fallback\"><pre>RandomizedSearchCV(cv=5, estimator=GradientBoostingClassifier(random_state=42),\n",
       "                   n_iter=15,\n",
       "                   param_distributions={&#x27;learning_rate&#x27;: [0.2, 0.1, 0.01],\n",
       "                                        &#x27;max_depth&#x27;: [3, 5, 8, 10],\n",
       "                                        &#x27;n_estimators&#x27;: [10, 100]},\n",
       "                   random_state=42, scoring=&#x27;accuracy&#x27;)</pre><b>In a Jupyter environment, please rerun this cell to show the HTML representation or trust the notebook. <br />On GitHub, the HTML representation is unable to render, please try loading this page with nbviewer.org.</b></div><div class=\"sk-container\" hidden><div class=\"sk-item sk-dashed-wrapped\"><div class=\"sk-label-container\"><div class=\"sk-label fitted sk-toggleable\"><input class=\"sk-toggleable__control sk-hidden--visually\" id=\"sk-estimator-id-2\" type=\"checkbox\" ><label for=\"sk-estimator-id-2\" class=\"sk-toggleable__label fitted sk-toggleable__label-arrow fitted\">&nbsp;&nbsp;RandomizedSearchCV<a class=\"sk-estimator-doc-link fitted\" rel=\"noreferrer\" target=\"_blank\" href=\"https://scikit-learn.org/1.4/modules/generated/sklearn.model_selection.RandomizedSearchCV.html\">?<span>Documentation for RandomizedSearchCV</span></a><span class=\"sk-estimator-doc-link fitted\">i<span>Fitted</span></span></label><div class=\"sk-toggleable__content fitted\"><pre>RandomizedSearchCV(cv=5, estimator=GradientBoostingClassifier(random_state=42),\n",
       "                   n_iter=15,\n",
       "                   param_distributions={&#x27;learning_rate&#x27;: [0.2, 0.1, 0.01],\n",
       "                                        &#x27;max_depth&#x27;: [3, 5, 8, 10],\n",
       "                                        &#x27;n_estimators&#x27;: [10, 100]},\n",
       "                   random_state=42, scoring=&#x27;accuracy&#x27;)</pre></div> </div></div><div class=\"sk-parallel\"><div class=\"sk-parallel-item\"><div class=\"sk-item\"><div class=\"sk-label-container\"><div class=\"sk-label fitted sk-toggleable\"><input class=\"sk-toggleable__control sk-hidden--visually\" id=\"sk-estimator-id-3\" type=\"checkbox\" ><label for=\"sk-estimator-id-3\" class=\"sk-toggleable__label fitted sk-toggleable__label-arrow fitted\">estimator: GradientBoostingClassifier</label><div class=\"sk-toggleable__content fitted\"><pre>GradientBoostingClassifier(random_state=42)</pre></div> </div></div><div class=\"sk-serial\"><div class=\"sk-item\"><div class=\"sk-estimator fitted sk-toggleable\"><input class=\"sk-toggleable__control sk-hidden--visually\" id=\"sk-estimator-id-4\" type=\"checkbox\" ><label for=\"sk-estimator-id-4\" class=\"sk-toggleable__label fitted sk-toggleable__label-arrow fitted\">&nbsp;GradientBoostingClassifier<a class=\"sk-estimator-doc-link fitted\" rel=\"noreferrer\" target=\"_blank\" href=\"https://scikit-learn.org/1.4/modules/generated/sklearn.ensemble.GradientBoostingClassifier.html\">?<span>Documentation for GradientBoostingClassifier</span></a></label><div class=\"sk-toggleable__content fitted\"><pre>GradientBoostingClassifier(random_state=42)</pre></div> </div></div></div></div></div></div></div></div></div>"
      ],
      "text/plain": [
       "RandomizedSearchCV(cv=5, estimator=GradientBoostingClassifier(random_state=42),\n",
       "                   n_iter=15,\n",
       "                   param_distributions={'learning_rate': [0.2, 0.1, 0.01],\n",
       "                                        'max_depth': [3, 5, 8, 10],\n",
       "                                        'n_estimators': [10, 100]},\n",
       "                   random_state=42, scoring='accuracy')"
      ]
     },
     "execution_count": 48,
     "metadata": {},
     "output_type": "execute_result"
    }
   ],
   "source": [
    "random_search.fit(X_train, y_train)"
   ]
  },
  {
   "cell_type": "code",
   "execution_count": 54,
   "id": "9653fb8f",
   "metadata": {},
   "outputs": [
    {
     "name": "stdout",
     "output_type": "stream",
     "text": [
      "Meilleurs paramètres: {'n_estimators': 100, 'max_depth': 10, 'learning_rate': 0.1}\n"
     ]
    }
   ],
   "source": [
    "print(\"Meilleurs paramètres:\", random_search.best_params_)"
   ]
  },
  {
   "cell_type": "code",
   "execution_count": 55,
   "id": "9493d26a",
   "metadata": {},
   "outputs": [],
   "source": [
    "best_model = random_search.best_estimator_"
   ]
  },
  {
   "cell_type": "code",
   "execution_count": 56,
   "id": "13995038",
   "metadata": {},
   "outputs": [],
   "source": [
    "test_accuracy = best_model.score(X_test, y_test)"
   ]
  },
  {
   "cell_type": "code",
   "execution_count": 57,
   "id": "190ad094-4a7e-4b15-b844-c181f1e1ec8e",
   "metadata": {},
   "outputs": [
    {
     "name": "stdout",
     "output_type": "stream",
     "text": [
      "Précision sur l'ensemble de test: 0.8087799622946404\n"
     ]
    }
   ],
   "source": [
    "print(\"Précision sur l'ensemble de test:\", test_accuracy)"
   ]
  },
  {
   "cell_type": "code",
   "execution_count": 58,
   "id": "12d27c29-a238-4777-a2b5-f6f1c29f0bfc",
   "metadata": {},
   "outputs": [
    {
     "data": {
      "image/png": "[encoded data removed]",
      "text/plain": [
       "<Figure size 640x480 with 2 Axes>"
      ]
     },
     "metadata": {},
     "output_type": "display_data"
    }
   ],
   "source": [
    "y_pred_optim_train = best_model.predict(X_train)\n",
    "plot_confusion_matrix(y_train, y_pred_optim_train)"
   ]
  },
  {
   "cell_type": "code",
   "execution_count": null,
   "id": "3fdaf4b3-b9c5-4b11-9d1c-c193666100f4",
   "metadata": {},
   "outputs": [],
   "source": [
    "#comme vous pouver voir l'accuracy a augmente avec n=15 d'iterations, en augmentant les iteartions ce score va augmenter "
   ]
  },
  {
   "cell_type": "code",
   "execution_count": null,
   "id": "c81546d5-d391-4c88-8726-88a5e76ba49b",
   "metadata": {},
   "outputs": [],
   "source": []
  }
 ],
 "metadata": {
  "kernelspec": {
   "display_name": "Python 3 (ipykernel)",
   "language": "python",
   "name": "python3"
  },
  "language_info": {
   "codemirror_mode": {
    "name": "ipython",
    "version": 3
   },
   "file_extension": ".py",
   "mimetype": "text/x-python",
   "name": "python",
   "nbconvert_exporter": "python",
   "pygments_lexer": "ipython3",
   "version": "3.11.5"
  }
 },
 "nbformat": 4,
 "nbformat_minor": 5
}
